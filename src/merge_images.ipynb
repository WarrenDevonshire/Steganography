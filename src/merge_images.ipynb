{
 "cells": [
  {
   "cell_type": "code",
   "execution_count": 40,
   "metadata": {},
   "outputs": [],
   "source": [
    "from PIL import Image\n",
    "import numpy as np"
   ]
  },
  {
   "cell_type": "code",
   "execution_count": 48,
   "metadata": {},
   "outputs": [],
   "source": [
    "THRESHOLD_CONSTANT = 4 #Number used to scale secret image to test if carry image can contain secret image\n",
    "CARRY_IMAGE_FILE = \"D:/Images/canyon1.png\"\n",
    "MESG_IMAGE_FILE = \"D:/Images/hello.png\""
   ]
  },
  {
   "cell_type": "code",
   "execution_count": 49,
   "metadata": {},
   "outputs": [],
   "source": [
    "#This tests each image in array format\n",
    "#Provides feedback given lengths of array\n",
    "#Good since dimensions doesn't really matter when hiding an image,\n",
    "#   we need to know if we have enough pixels to hide the image, not necessarily\n",
    "#   the dimensions\n",
    "def img_cmp_arr(carry, message):\n",
    "\n",
    "    carry_im = Image.open(carry)\n",
    "    mesg_im = Image.open(message)\n",
    "\n",
    "    carry_arr = list(carry_im.getdata())\n",
    "    mesg_arr = list(mesg_im.getdata())\n",
    "\n",
    "    carry_size = len(carry_arr)\n",
    "    mesg_size = len(mesg_arr)\n",
    "\n",
    "    if (carry_size > (THRESHOLD_CONSTANT*(mesg_size))):\n",
    "        return True\n",
    "    else:\n",
    "        return False"
   ]
  },
  {
   "cell_type": "code",
   "execution_count": 50,
   "metadata": {},
   "outputs": [],
   "source": [
    "def integer_to_binary(rgb):\n",
    "    '''\n",
    "    Convert RGB pixel values from integer to binary\n",
    "    INPUT: An integer tuple (e.g. (220, 110, 96))\n",
    "    OUTPUT: A string tuple (e.g. (\"00101010\", \"11101011\", \"00010110\"))\n",
    "    '''\n",
    "    r, g, b = rgb\n",
    "    return ('{0:08b}'.format(r),\n",
    "            '{0:08b}'.format(g),\n",
    "            '{0:08b}'.format(b))"
   ]
  },
  {
   "cell_type": "code",
   "execution_count": 51,
   "metadata": {},
   "outputs": [],
   "source": [
    "def binary_to_integer(rgb):\n",
    "    '''\n",
    "    Convert RGB pixel values from binary to integer.\n",
    "    INPUT: A string tuple (e.g. (\"00101010\", \"11101011\", \"00010110\"))\n",
    "    OUTPUT: Return an int tuple (e.g. (220, 110, 96))\n",
    "    '''\n",
    "    r, g, b = rgb\n",
    "    return (int(r, 2),\n",
    "            int(g, 2),\n",
    "            int(b, 2))"
   ]
  },
  {
   "cell_type": "code",
   "execution_count": 52,
   "metadata": {},
   "outputs": [],
   "source": [
    "def merge_rgb(rgb1, rgb2):\n",
    "    '''\n",
    "    Merge two RGB pixels using 4 least significant bits.\n",
    "    INPUT: A string tuple (e.g. (\"00101010\", \"11101011\", \"00010110\")),\n",
    "           Another string tuple (e.g. (\"00101010\", \"11101011\", \"00010110\"))\n",
    "    OUTPUT: An integer tuple with the two RGB values merged\n",
    "    '''\n",
    "    r1, g1, b1 = rgb1\n",
    "    r2, g2, b2 = rgb2\n",
    "    rgb = (r1[:4] + r2[:4],\n",
    "           g1[:4] + g2[:4],\n",
    "           b1[:4] + b2[:4])\n",
    "    return rgb"
   ]
  },
  {
   "cell_type": "code",
   "execution_count": 57,
   "metadata": {},
   "outputs": [],
   "source": [
    "def mergeImages(carryImage_path, mesgImage_path):\n",
    "    '''\n",
    "    Merge two images. The msegImage will be merged into the carryImage.\n",
    "    INPUT: carry and message image path\n",
    "    OUTPUT: A new merged image.\n",
    "    '''   \n",
    "    carry_image = Image.open(carryImage_path)\n",
    "    message_image = Image.open(mesgImage_path)\n",
    "    \n",
    "    # Ensure carry image is larger than message image\n",
    "    if not img_cmp_arr(carryImage_path,mesgImage_path):\n",
    "       raise ValueError('Carry image size is lower than message image size!')\n",
    "    \n",
    "    # Create a new image that will be outputted\n",
    "    new_image = Image.new(carry_image.mode, carry_image.size)\n",
    "    pixels_new_arr = list(new_image.getdata())\n",
    "    \n",
    "    carry_arr = list(carry_image.getdata())\n",
    "    mesg_arr = list(message_image.getdata())\n",
    "    \n",
    "    for i in range(len(carry_arr)):\n",
    "        rgb1 = integer_to_binary(carry_arr[i])\n",
    "\n",
    "        # Use a black pixel as default\n",
    "        rgb2 = integer_to_binary((0, 0, 0))\n",
    "\n",
    "        # Check if the pixel count is valid for the second image\n",
    "        if i < len(mesg_arr):\n",
    "            rgb2 = integer_to_binary(mesg_arr[i])\n",
    "\n",
    "        # Merge the two pixels and convert it to a integer tuple\n",
    "        rgb = merge_rgb(rgb1, rgb2)\n",
    "\n",
    "        pixels_new_arr[i] = binary_to_integer(rgb)\n",
    "    \n",
    "        new_image.convert('RGB').save('merged.png')\n",
    "    \n",
    "    return new_image\n",
    "    \n",
    "    "
   ]
  },
  {
   "cell_type": "code",
   "execution_count": 59,
   "metadata": {},
   "outputs": [],
   "source": [
    "#mergeImages(CARRY_IMAGE_FILE,MESG_IMAGE_FILE)"
   ]
  },
  {
   "cell_type": "code",
   "execution_count": null,
   "metadata": {},
   "outputs": [],
   "source": []
  }
 ],
 "metadata": {
  "kernelspec": {
   "display_name": "Python 3",
   "language": "python",
   "name": "python3"
  },
  "language_info": {
   "codemirror_mode": {
    "name": "ipython",
    "version": 3
   },
   "file_extension": ".py",
   "mimetype": "text/x-python",
   "name": "python",
   "nbconvert_exporter": "python",
   "pygments_lexer": "ipython3",
   "version": "3.7.3"
  }
 },
 "nbformat": 4,
 "nbformat_minor": 2
}
